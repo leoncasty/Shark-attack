{
 "cells": [
  {
   "cell_type": "code",
   "execution_count": null,
   "id": "9e60a39a",
   "metadata": {},
   "outputs": [],
   "source": [
    "\"\"\"TASK LIST SHARK ATTACK\n",
    "\n",
    "- Tubarões são a reencarnação do povo celta e estão sacrificando humanos por motivos maleficos?\n",
    "\n",
    "- a principio removi todas as linhas duplicadas e nulas do dataset\n",
    "\n",
    "- selecionei uma coluna que me de a informação de data para filtrar os dias do Samhain.\n",
    "- utilizei a coluna Case Number pois para todas as entradas de dados relevantes ela é igual a coluna de Data\n",
    "    - para limpa-la utilizei o metodo str.replace removendo todos os characteres não númericos, as linhas que iniciavam com 00, ND e terminavam com 00\n",
    "    - obtive o padrão de aaaa-mm-dd, porem em muitos casos os dias estavam zerados.\n",
    "    - Após a limpeza destesas linhas transformei o tipo da coluna em data.\n",
    "    - verificar onde estão os pontos de calor do dado\n",
    " \n",
    "- para obter apenas os casos ocorridos no Hemisferio norte, e que coincidiariam com os dias so Samhain utilizei a coluna Country\n",
    "    - criei a lista com todas as entradas não correrspondentes \n",
    "    - realizei uma manipulação do dataframe para localizar todos as 'chaves' da lista, utilizei os metodos .loc e .drop para limpeza\n",
    "    \n",
    "- limpar coluna de sexo para saber se homens ou mulheres são atacados com mais frequencia nesses dias ou coluna de especies ou pegar ataques fatais ou não\n",
    " \n",
    "- construir nova tabela com as colunas selecionadas\n",
    "- exportar para csv e criar tableu \n",
    "\n",
    "- aplicar os conceitos de significancia estatistica (população vs tamanho da amostragem)\n",
    "- inferencia estatistica\n",
    "- por que não estudar a população inteira? Responder essa pergunta\n",
    "- utilizei o metodo de amostragem de uma população infinita pois não sabemos quantos casos realmente existem de ataques de tubarão e os mesmos aumentam a cada ano\n",
    "- cada elemento selecionado deve ser da mesma população\n",
    "- cada independentemente\n",
    "\n",
    "\n",
    "- para fazer o read me temos que colocar o resumo do que está acontecendo no codigo \n",
    "- \"\"\""
   ]
  },
  {
   "cell_type": "code",
   "execution_count": 1,
   "id": "53baa944",
   "metadata": {
    "ExecuteTime": {
     "end_time": "2022-08-23T13:12:29.779740Z",
     "start_time": "2022-08-23T13:12:29.414368Z"
    }
   },
   "outputs": [],
   "source": [
    "import pandas as pd\n",
    "import numpy as np\n",
    "import regex as re"
   ]
  },
  {
   "cell_type": "code",
   "execution_count": 2,
   "id": "b7ccf341",
   "metadata": {
    "ExecuteTime": {
     "end_time": "2022-08-23T13:12:31.243939Z",
     "start_time": "2022-08-23T13:12:31.155897Z"
    }
   },
   "outputs": [
    {
     "data": {
      "text/plain": [
       "\"Encoding 'latin-1' usado por conta de posiveis acentos utilizadaos dentro do dataset\""
      ]
     },
     "execution_count": 2,
     "metadata": {},
     "output_type": "execute_result"
    }
   ],
   "source": [
    "shark_dt = pd.read_csv(r\"C:\\Users\\T-GAMER\\Desktop\\Ironhack DA\\Week 3\\Shark-attack\\attacks.csv\", encoding = 'latin-1', sep = ',')\n",
    "\n",
    "\"\"\"Encoding 'latin-1' usado por conta de posiveis acentos utilizadaos dentro do dataset\"\"\""
   ]
  },
  {
   "cell_type": "code",
   "execution_count": 79,
   "id": "efadbdeb",
   "metadata": {
    "ExecuteTime": {
     "end_time": "2022-08-23T13:47:39.944452Z",
     "start_time": "2022-08-23T13:47:39.939452Z"
    },
    "scrolled": true
   },
   "outputs": [],
   "source": [
    "pd.options.display.max_columns = 26"
   ]
  },
  {
   "cell_type": "code",
   "execution_count": 4,
   "id": "4d8b7697",
   "metadata": {
    "ExecuteTime": {
     "end_time": "2022-08-23T13:13:33.497966Z",
     "start_time": "2022-08-23T13:13:33.436307Z"
    }
   },
   "outputs": [],
   "source": [
    "shark_dt.drop_duplicates(inplace= True)"
   ]
  },
  {
   "cell_type": "code",
   "execution_count": 5,
   "id": "7f5fc618",
   "metadata": {
    "ExecuteTime": {
     "end_time": "2022-08-23T13:13:35.021320Z",
     "start_time": "2022-08-23T13:13:35.012314Z"
    }
   },
   "outputs": [],
   "source": [
    "#utilizei o set do ponto seguido de letras minusculas e maiusculas com 0 ou mais characteres\n",
    "shark_dt ['Case Number 2'] = shark_dt['Case Number'].str.replace('[a-zA-Z]+', '', regex = True)\n"
   ]
  },
  {
   "cell_type": "code",
   "execution_count": 6,
   "id": "c8d19242",
   "metadata": {
    "ExecuteTime": {
     "end_time": "2022-08-23T13:13:36.631720Z",
     "start_time": "2022-08-23T13:13:36.612715Z"
    }
   },
   "outputs": [],
   "source": [
    "shark_dt ['Case Number 3'] = shark_dt['Case Number 2'].str.replace('\\.+', '', regex = True).str.replace('-', '', regex = False).str.replace(',', '', regex = False).str.replace('/', '', regex = False).str.replace('&', '', regex = False)\n"
   ]
  },
  {
   "cell_type": "code",
   "execution_count": 7,
   "id": "427ce371",
   "metadata": {
    "ExecuteTime": {
     "end_time": "2022-08-23T13:13:39.457973Z",
     "start_time": "2022-08-23T13:13:39.451967Z"
    }
   },
   "outputs": [
    {
     "data": {
      "text/plain": [
       "Index(['Case Number', 'Date', 'Year', 'Type', 'Country', 'Area', 'Location',\n",
       "       'Activity', 'Name', 'Sex ', 'Age', 'Injury', 'Fatal (Y/N)', 'Time',\n",
       "       'Species ', 'Investigator or Source', 'pdf', 'href formula', 'href',\n",
       "       'Case Number.1', 'Case Number.2', 'original order', 'Unnamed: 22',\n",
       "       'Unnamed: 23', 'Case Number 2', 'Case Number 3'],\n",
       "      dtype='object')"
      ]
     },
     "execution_count": 7,
     "metadata": {},
     "output_type": "execute_result"
    }
   ],
   "source": [
    "shark_dt.columns"
   ]
  },
  {
   "cell_type": "code",
   "execution_count": 8,
   "id": "d1e78652",
   "metadata": {
    "ExecuteTime": {
     "end_time": "2022-08-23T13:13:41.112062Z",
     "start_time": "2022-08-23T13:13:41.100064Z"
    }
   },
   "outputs": [],
   "source": [
    "shark_dt = shark_dt[(['Case Number','Case Number 2', 'Case Number 3', 'Date', 'Year', 'Type', 'Country', 'Area', 'Location',\n",
    "       'Activity', 'Name', 'Sex ', 'Age', 'Injury', 'Fatal (Y/N)', 'Time',\n",
    "       'Species ', 'Investigator or Source', 'pdf', 'href formula', 'href',\n",
    "       'Case Number.1', 'Case Number.2', 'original order', 'Unnamed: 22',\n",
    "       'Unnamed: 23'])]\n"
   ]
  },
  {
   "cell_type": "code",
   "execution_count": null,
   "id": "f10e0cc4",
   "metadata": {
    "ExecuteTime": {
     "end_time": "2022-08-22T20:39:18.639408Z",
     "start_time": "2022-08-22T20:39:18.612155Z"
    }
   },
   "outputs": [],
   "source": [
    "# como filtrar uma linha de alguma coluna por meio do argumento nela\n",
    "shark_dt[shark_dt['Case Number 3'] == '201507-10']"
   ]
  },
  {
   "cell_type": "code",
   "execution_count": 9,
   "id": "04f0054f",
   "metadata": {
    "ExecuteTime": {
     "end_time": "2022-08-23T13:13:45.242930Z",
     "start_time": "2022-08-23T13:13:45.228927Z"
    }
   },
   "outputs": [],
   "source": [
    "#mascara para ver todos os case numbers que terminam ou começam com 00/ND\n",
    "mask_drop = shark_dt[shark_dt['Case Number 3'].str.endswith('00').fillna(False)]"
   ]
  },
  {
   "cell_type": "code",
   "execution_count": 16,
   "id": "f9c3203f",
   "metadata": {
    "ExecuteTime": {
     "end_time": "2022-08-23T13:14:13.865984Z",
     "start_time": "2022-08-23T13:14:13.851989Z"
    }
   },
   "outputs": [],
   "source": [
    "mask_drop2 = shark_dt[shark_dt['Case Number 3'].str.startswith('00').fillna(False)]"
   ]
  },
  {
   "cell_type": "code",
   "execution_count": 18,
   "id": "db83dd3e",
   "metadata": {
    "ExecuteTime": {
     "end_time": "2022-08-23T13:14:17.334377Z",
     "start_time": "2022-08-23T13:14:17.316374Z"
    }
   },
   "outputs": [],
   "source": [
    "mask_drop3 = shark_dt[shark_dt['Case Number 3'].str.startswith('ND').fillna(False)]"
   ]
  },
  {
   "cell_type": "code",
   "execution_count": 10,
   "id": "857a8c8e",
   "metadata": {
    "ExecuteTime": {
     "end_time": "2022-08-23T13:13:47.222378Z",
     "start_time": "2022-08-23T13:13:47.211375Z"
    }
   },
   "outputs": [],
   "source": [
    "shark_dt.drop (mask_drop.index, inplace= True)"
   ]
  },
  {
   "cell_type": "code",
   "execution_count": 17,
   "id": "e9c22750",
   "metadata": {
    "ExecuteTime": {
     "end_time": "2022-08-23T13:14:15.860756Z",
     "start_time": "2022-08-23T13:14:15.844764Z"
    }
   },
   "outputs": [],
   "source": [
    "shark_dt.drop (mask_drop2.index, inplace= True)"
   ]
  },
  {
   "cell_type": "code",
   "execution_count": 19,
   "id": "26b32cad",
   "metadata": {
    "ExecuteTime": {
     "end_time": "2022-08-23T13:14:19.219928Z",
     "start_time": "2022-08-23T13:14:19.203925Z"
    }
   },
   "outputs": [],
   "source": [
    "shark_dt.drop (mask_drop3.index, inplace= True)"
   ]
  },
  {
   "cell_type": "code",
   "execution_count": 11,
   "id": "d4a13489",
   "metadata": {
    "ExecuteTime": {
     "end_time": "2022-08-23T13:13:52.810612Z",
     "start_time": "2022-08-23T13:13:52.796609Z"
    }
   },
   "outputs": [],
   "source": [
    "shark_dt.dropna (subset='Case Number 3', inplace= True)"
   ]
  },
  {
   "cell_type": "code",
   "execution_count": 12,
   "id": "f8b9d875",
   "metadata": {
    "ExecuteTime": {
     "end_time": "2022-08-23T13:13:54.149170Z",
     "start_time": "2022-08-23T13:13:54.133171Z"
    }
   },
   "outputs": [],
   "source": [
    "shark_dt.dropna (subset='Date', inplace= True)"
   ]
  },
  {
   "cell_type": "code",
   "execution_count": 33,
   "id": "6ae5f99c",
   "metadata": {
    "ExecuteTime": {
     "end_time": "2022-08-23T13:22:48.839151Z",
     "start_time": "2022-08-23T13:22:48.828141Z"
    }
   },
   "outputs": [],
   "source": [
    "shark_dt.loc [shark_dt['Case Number 3'].str.count('\\d') != 8, 'Case Number 3'] = '20020613'"
   ]
  },
  {
   "cell_type": "code",
   "execution_count": null,
   "id": "7bb60835",
   "metadata": {
    "ExecuteTime": {
     "end_time": "2022-08-23T13:04:33.946452Z",
     "start_time": "2022-08-23T13:04:33.931451Z"
    }
   },
   "outputs": [],
   "source": [
    "shark_dt.loc [shark_dt['Case Number 3'] == '19950826/b', 'Case Number 3'] = 19950826"
   ]
  },
  {
   "cell_type": "code",
   "execution_count": 39,
   "id": "d74cd5f3",
   "metadata": {
    "ExecuteTime": {
     "end_time": "2022-08-23T13:27:30.396702Z",
     "start_time": "2022-08-23T13:27:30.380697Z"
    }
   },
   "outputs": [],
   "source": [
    "shark_dt = shark_dt.loc [~(shark_dt['Case Number 3'].str.contains('\\d{4}00\\d{2}'))]"
   ]
  },
  {
   "cell_type": "code",
   "execution_count": 72,
   "id": "f293f595",
   "metadata": {
    "ExecuteTime": {
     "end_time": "2022-08-23T13:41:29.475092Z",
     "start_time": "2022-08-23T13:41:29.460092Z"
    }
   },
   "outputs": [],
   "source": [
    "#tentativa de transformar coluna 'Case Number 3' em data\n",
    "shark_dt['Case Number 3'] = pd.to_datetime(shark_dt['Case Number 3'], format = '%Y%m%d')"
   ]
  },
  {
   "cell_type": "code",
   "execution_count": 69,
   "id": "243595c8",
   "metadata": {
    "ExecuteTime": {
     "end_time": "2022-08-23T13:39:20.028603Z",
     "start_time": "2022-08-23T13:39:20.011600Z"
    }
   },
   "outputs": [],
   "source": [
    "shark_dt['Case Number 3'].iloc[3027] = '18530429'"
   ]
  },
  {
   "cell_type": "code",
   "execution_count": 73,
   "id": "994cbffa",
   "metadata": {
    "ExecuteTime": {
     "end_time": "2022-08-23T13:41:45.040259Z",
     "start_time": "2022-08-23T13:41:45.020256Z"
    }
   },
   "outputs": [
    {
     "name": "stdout",
     "output_type": "stream",
     "text": [
      "<class 'pandas.core.frame.DataFrame'>\n",
      "Int64Index: 3107 entries, 0 to 6215\n",
      "Data columns (total 26 columns):\n",
      " #   Column                  Non-Null Count  Dtype         \n",
      "---  ------                  --------------  -----         \n",
      " 0   Case Number             3107 non-null   object        \n",
      " 1   Case Number 2           3107 non-null   object        \n",
      " 2   Case Number 3           3107 non-null   datetime64[ns]\n",
      " 3   Date                    3107 non-null   object        \n",
      " 4   Year                    3106 non-null   float64       \n",
      " 5   Type                    3106 non-null   object        \n",
      " 6   Country                 3073 non-null   object        \n",
      " 7   Area                    2909 non-null   object        \n",
      " 8   Location                2875 non-null   object        \n",
      " 9   Activity                2895 non-null   object        \n",
      " 10  Name                    3008 non-null   object        \n",
      " 11  Sex                     2886 non-null   object        \n",
      " 12  Age                     1938 non-null   object        \n",
      " 13  Injury                  3098 non-null   object        \n",
      " 14  Fatal (Y/N)             2842 non-null   object        \n",
      " 15  Time                    1687 non-null   object        \n",
      " 16  Species                 1711 non-null   object        \n",
      " 17  Investigator or Source  3102 non-null   object        \n",
      " 18  pdf                     3107 non-null   object        \n",
      " 19  href formula            3107 non-null   object        \n",
      " 20  href                    3107 non-null   object        \n",
      " 21  Case Number.1           3107 non-null   object        \n",
      " 22  Case Number.2           3107 non-null   object        \n",
      " 23  original order          3107 non-null   float64       \n",
      " 24  Unnamed: 22             1 non-null      object        \n",
      " 25  Unnamed: 23             2 non-null      object        \n",
      "dtypes: datetime64[ns](1), float64(2), object(23)\n",
      "memory usage: 655.4+ KB\n"
     ]
    }
   ],
   "source": [
    "shark_dt.info()"
   ]
  },
  {
   "cell_type": "code",
   "execution_count": 13,
   "id": "c232d9ff",
   "metadata": {
    "ExecuteTime": {
     "end_time": "2022-08-23T13:14:03.077817Z",
     "start_time": "2022-08-23T13:14:03.068820Z"
    },
    "scrolled": true
   },
   "outputs": [
    {
     "data": {
      "text/plain": [
       "array(['USA', 'AUSTRALIA', 'MEXICO', 'BRAZIL', 'ENGLAND', 'SOUTH AFRICA',\n",
       "       'THAILAND', 'COSTA RICA', 'MALDIVES', 'BAHAMAS', 'NEW CALEDONIA',\n",
       "       'ECUADOR', 'MALAYSIA', 'LIBYA', nan, 'CUBA', 'MAURITIUS',\n",
       "       'NEW ZEALAND', 'SPAIN', 'SAMOA', 'SOLOMON ISLANDS', 'JAPAN',\n",
       "       'EGYPT', 'ST HELENA, British overseas territory', 'COMOROS',\n",
       "       'REUNION', 'FRENCH POLYNESIA', 'UNITED KINGDOM',\n",
       "       'UNITED ARAB EMIRATES', 'PHILIPPINES', 'INDONESIA', 'CHINA',\n",
       "       'COLUMBIA', 'CAPE VERDE', 'Fiji', 'DOMINICAN REPUBLIC',\n",
       "       'CAYMAN ISLANDS', 'ARUBA', 'MOZAMBIQUE', 'PUERTO RICO', 'ITALY',\n",
       "       'ATLANTIC OCEAN', 'GREECE', 'ST. MARTIN', 'FRANCE',\n",
       "       'PAPUA NEW GUINEA', 'TRINIDAD & TOBAGO', 'KIRIBATI', 'ISRAEL',\n",
       "       'DIEGO GARCIA', 'TAIWAN', 'JAMAICA', 'PALESTINIAN TERRITORIES',\n",
       "       'GUAM', 'SEYCHELLES', 'BELIZE', 'NIGERIA', 'TONGA', 'SCOTLAND',\n",
       "       'CANADA', 'CROATIA', 'FIJI', 'SAUDI ARABIA', 'CHILE', 'ANTIGUA',\n",
       "       'KENYA', 'RUSSIA', 'TURKS & CAICOS', 'UNITED ARAB EMIRATES (UAE)',\n",
       "       'AZORES', 'SOUTH KOREA', 'MALTA', 'VIETNAM', 'MADAGASCAR',\n",
       "       'PANAMA', 'SOMALIA', 'NEVIS', 'BRITISH VIRGIN ISLANDS', 'NORWAY',\n",
       "       'YEMEN', 'Sierra Leone', 'ST. MAARTIN', 'GRAND CAYMAN',\n",
       "       'Seychelles', 'LIBERIA', 'VANUATU', 'MEXICO ', 'HONDURAS',\n",
       "       'VENEZUELA', 'SRI LANKA', ' TONGA', 'URUGUAY', 'INDIA',\n",
       "       'MICRONESIA', 'OKINAWA', 'TANZANIA', 'MARSHALL ISLANDS',\n",
       "       'EGYPT / ISRAEL', 'NORTHERN ARABIAN SEA', 'HONG KONG',\n",
       "       'EL SALVADOR', 'CARIBBEAN SEA', 'BERMUDA', 'NAMIBIA',\n",
       "       'SOUTH CHINA SEA', 'WESTERN SAMOA', 'PACIFIC OCEAN ',\n",
       "       'BRITISH ISLES', 'PALAU', 'GRENADA', 'TURKEY', 'SINGAPORE',\n",
       "       'NEW BRITAIN', 'SUDAN', 'JOHNSTON ISLAND', 'NEW GUINEA',\n",
       "       'NORTH PACIFIC OCEAN', 'FEDERATED STATES OF MICRONESIA',\n",
       "       'ADMIRALTY ISLANDS', 'BRITISH WEST INDIES', 'SOUTH ATLANTIC OCEAN',\n",
       "       'MID ATLANTIC OCEAN', 'PERSIAN GULF', 'PACIFIC OCEAN', 'SENEGAL',\n",
       "       'NORTH SEA', 'AMERICAN SAMOA', 'ANDAMAN / NICOBAR ISLANDAS',\n",
       "       'GABON', 'PORTUGAL', 'MONTENEGRO', 'THE BALKANS', 'ARGENTINA',\n",
       "       'IRAN', 'GUATEMALA', 'NETHERLANDS ANTILLES',\n",
       "       'NORTH ATLANTIC OCEAN', 'NORTHERN MARIANA ISLANDS', 'IRAN / IRAQ',\n",
       "       'SIERRA LEONE', ' PHILIPPINES', 'CENTRAL PACIFIC', 'INDIAN OCEAN',\n",
       "       'SOLOMON ISLANDS / VANUATU', 'SOUTHWEST PACIFIC OCEAN',\n",
       "       'BAY OF BENGAL', 'NICARAGUA', 'IRAQ', 'ICELAND', 'ITALY / CROATIA',\n",
       "       'BARBADOS', 'GUYANA', 'HAITI', 'IRELAND', 'KUWAIT', 'TUNISIA',\n",
       "       'YEMEN ', 'CYPRUS', 'EGYPT ', 'WEST INDIES', 'BURMA', 'LEBANON',\n",
       "       'MARTINIQUE', 'PARAGUAY', 'BRITISH NEW GUINEA', 'CEYLON',\n",
       "       'GEORGIA', 'TUVALU', 'INDIAN OCEAN?', 'GUINEA', 'ANDAMAN ISLANDS',\n",
       "       'EQUATORIAL GUINEA / CAMEROON', 'COOK ISLANDS', 'TOBAGO', 'PERU',\n",
       "       'AFRICA', 'ALGERIA', 'Coast of AFRICA', 'TASMAN SEA',\n",
       "       'Between PORTUGAL & INDIA', 'DJIBOUTI', 'BAHREIN', 'KOREA',\n",
       "       'RED SEA?', 'MEDITERRANEAN SEA', 'ASIA?', 'CEYLON (SRI LANKA)'],\n",
       "      dtype=object)"
      ]
     },
     "execution_count": 13,
     "metadata": {},
     "output_type": "execute_result"
    }
   ],
   "source": [
    "pd.unique(shark_dt['Country'])"
   ]
  },
  {
   "cell_type": "code",
   "execution_count": 14,
   "id": "9150317d",
   "metadata": {
    "ExecuteTime": {
     "end_time": "2022-08-23T13:14:05.915384Z",
     "start_time": "2022-08-23T13:14:05.909386Z"
    }
   },
   "outputs": [],
   "source": [
    "lista_hemisferio_sul = ['AUSTRALIA', 'BRAZIL', 'SOUTH AFRICA', 'BAHAMAS', 'NEW CALEDONIA', 'ECUADOR', 'MALAYSIA', 'LYBIA', 'nan', 'CUBA', 'MAURITIUS', 'NEW ZELAND', 'SAMOA', 'SALOMON ISLANDS', 'ST HELENA', 'COMOROS',\n",
    " 'REUNION', 'FRENCH POLYNESIA', 'INDONESIA', 'CAPE VERDE', 'Fiji', 'PUERTO RICO', 'KIRIBATI', 'DIEGO GARCIA', 'GUAM', 'SEYCHELLES', 'BELIZE', 'NIGERIA', 'TONGA', 'CHILE', 'ANTIGUA', 'KENYA', 'MADAGASCAR',\n",
    "'PANAMA', 'SOMALIA', 'SENEGAL', 'Sierra Leone', 'Seychelles', 'LIBERIA', 'VENEZUELA', 'SRI LANKA', ' TONGA', 'URUGUAY', 'INDIA', 'MICRONESIA', 'TANZANIA', 'EGYPT / ISRAEL', 'NORTHERN ARABIAN SEA',\n",
    " 'EL SALVADOR', 'ANGOLA', 'BERMUDA', 'MONTENEGRO', 'NAMIBIA', 'NEW GUINEA', 'NICARAGUA ', 'ANDAMAN / NICOBAR ISLANDAS', 'GABON', 'MAYOTTE', 'THE BALKANS', 'SUDAN?', 'ARGENTINA','MARTINIQUE', 'INDIAN OCEAN',\n",
    "'GUATEMALA', 'IRAN / IRAQ', 'JAVA', 'SIERRA LEONE', 'SOLOMON ISLANDS / VANUATU', 'CURACAO', 'HAITI', 'SAN DOMINGO', 'CYPRUS''PARAGUAY', 'BRITISH NEW GUINEA', 'CEYLON', 'OCEAN', 'GEORGIA', 'SYRIA',\n",
    "'TUVALU', 'INDIAN OCEAN?', 'GUINEA', 'ANDAMAN ISLANDS', 'EQUATORIAL GUINEA / CAMEROON', 'COOK ISLANDS', 'TOBAGO', 'PERU', 'AFRICA', 'ALGERIA', 'Coast of AFRICA', 'TASMAN SEA', 'GHANA', 'Between PORTUGAL & INDIA',\n",
    "'RED SEA?', 'ASIA?', 'CEYLON (SRI LANKA)']\n"
   ]
  },
  {
   "cell_type": "code",
   "execution_count": 15,
   "id": "9a7f0752",
   "metadata": {
    "ExecuteTime": {
     "end_time": "2022-08-23T13:14:07.742133Z",
     "start_time": "2022-08-23T13:14:07.733125Z"
    }
   },
   "outputs": [],
   "source": [
    "#essa manipulação do dataframe foi utilizada para localizar todos as 'chaves' que não correspondiam a localidades no hemisferio norte, após localizadas as linhas foram dropadas do dataset\n",
    "\n",
    "shark_dt.drop (shark_dt.loc[shark_dt ['Country'].isin(lista_hemisferio_sul)].index, inplace= True)"
   ]
  },
  {
   "cell_type": "code",
   "execution_count": 81,
   "id": "c2d18337",
   "metadata": {
    "ExecuteTime": {
     "end_time": "2022-08-23T13:48:45.195248Z",
     "start_time": "2022-08-23T13:48:45.187245Z"
    }
   },
   "outputs": [
    {
     "data": {
      "text/plain": [
       "array(['N', 'Y', nan, 'UNKNOWN', '2017'], dtype=object)"
      ]
     },
     "execution_count": 81,
     "metadata": {},
     "output_type": "execute_result"
    }
   ],
   "source": [
    "pd.unique(shark_dt['Fatal (Y/N)'])"
   ]
  },
  {
   "cell_type": "code",
   "execution_count": 85,
   "id": "ebca4cdb",
   "metadata": {
    "ExecuteTime": {
     "end_time": "2022-08-23T13:59:06.252790Z",
     "start_time": "2022-08-23T13:59:04.906743Z"
    }
   },
   "outputs": [],
   "source": [
    "shark_dt.to_excel(r'C:\\Users\\T-GAMER\\Desktop\\Ironhack DA\\Week 3\\Shark-attack\\shark_final.xlsx')"
   ]
  }
 ],
 "metadata": {
  "kernelspec": {
   "display_name": "Python 3 (ipykernel)",
   "language": "python",
   "name": "python3"
  },
  "language_info": {
   "codemirror_mode": {
    "name": "ipython",
    "version": 3
   },
   "file_extension": ".py",
   "mimetype": "text/x-python",
   "name": "python",
   "nbconvert_exporter": "python",
   "pygments_lexer": "ipython3",
   "version": "3.9.12"
  },
  "varInspector": {
   "cols": {
    "lenName": 16,
    "lenType": 16,
    "lenVar": 40
   },
   "kernels_config": {
    "python": {
     "delete_cmd_postfix": "",
     "delete_cmd_prefix": "del ",
     "library": "var_list.py",
     "varRefreshCmd": "print(var_dic_list())"
    },
    "r": {
     "delete_cmd_postfix": ") ",
     "delete_cmd_prefix": "rm(",
     "library": "var_list.r",
     "varRefreshCmd": "cat(var_dic_list()) "
    }
   },
   "types_to_exclude": [
    "module",
    "function",
    "builtin_function_or_method",
    "instance",
    "_Feature"
   ],
   "window_display": false
  }
 },
 "nbformat": 4,
 "nbformat_minor": 5
}
